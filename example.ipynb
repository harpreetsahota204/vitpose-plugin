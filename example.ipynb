{
  "cells": [
    {
      "cell_type": "code",
      "execution_count": null,
      "metadata": {
        "id": "9xqHWjDlIgym"
      },
      "outputs": [],
      "source": [
        "!pip install fiftyone hf-transfer ultralytics"
      ]
    },
    {
      "cell_type": "code",
      "execution_count": null,
      "metadata": {
        "id": "_MsUgDkfH6cv"
      },
      "outputs": [],
      "source": [
        "!pip install -U -q git+https://github.com/huggingface/transformers"
      ]
    },
    {
      "cell_type": "code",
      "execution_count": null,
      "metadata": {
        "id": "rlFoEEzvJpRS"
      },
      "outputs": [],
      "source": [
        "import os\n",
        "\n",
        "os.environ[\"HF_HUB_ENABLE_HF_TRANSFER\"] = \"1\""
      ]
    },
    {
      "cell_type": "code",
      "execution_count": null,
      "metadata": {
        "id": "ajMwBkY9YDEk"
      },
      "outputs": [],
      "source": [
        "from ultralytics import YOLO\n",
        "\n",
        "yolo_world_model = YOLO(\"yolov8x-worldv2.pt\")  # or choose yolov8m/l-world.pt\n",
        "\n",
        "# Define custom classes\n",
        "yolo_world_model.set_classes([\"person\"])\n"
      ]
    },
    {
      "cell_type": "code",
      "execution_count": null,
      "metadata": {
        "id": "OWQ2_H_LIr3F"
      },
      "outputs": [],
      "source": [
        "import fiftyone as fo\n",
        "import fiftyone.utils.huggingface as fouh\n",
        "\n",
        "\n",
        "dataset = fouh.load_from_hub(\n",
        "    \"Voxel51/MPII_Human_Pose_Dataset\",\n",
        "    name=\"human_pose\",\n",
        "    max_samples = 10,\n",
        "    overwrite=True,\n",
        "    shuffle=True\n",
        "    )"
      ]
    },
    {
      "cell_type": "code",
      "execution_count": null,
      "metadata": {
        "id": "vOJP08d0prsV"
      },
      "outputs": [],
      "source": [
        "dataset.compute_metadata()"
      ]
    },
    {
      "cell_type": "code",
      "execution_count": null,
      "metadata": {
        "id": "9d0-3b_YXoYb"
      },
      "outputs": [],
      "source": [
        "dataset.apply_model(\n",
        "    yolo_world_model,\n",
        "    label_field=\"bbox_detections\"\n",
        ")"
      ]
    },
    {
      "cell_type": "code",
      "execution_count": null,
      "metadata": {
        "id": "WCU_NopKHzPs"
      },
      "outputs": [],
      "source": [
        "!fiftyone plugins download https://github.com/harpreetsahota204/vitpose-plugin"
      ]
    },
    {
      "cell_type": "code",
      "execution_count": null,
      "metadata": {},
      "outputs": [],
      "source": [
        "import os\n",
        "\n",
        "os.environ['FIFTYONE_ALLOW_LEGACY_ORCHESTRATORS'] = 'true'"
      ]
    },
    {
      "cell_type": "code",
      "execution_count": null,
      "metadata": {
        "id": "8WTvVJOOp1_e"
      },
      "outputs": [],
      "source": [
        "fo.launch_app(dataset)"
      ]
    },
    {
      "cell_type": "markdown",
      "metadata": {
        "id": "m8pvbrYtjdtt"
      },
      "source": [
        "To use via SDK:"
      ]
    },
    {
      "cell_type": "code",
      "execution_count": null,
      "metadata": {
        "id": "pvMumaPKjbW8"
      },
      "outputs": [],
      "source": [
        "import fiftyone.operators as foo\n",
        "\n",
        "vitpose_operator = foo.get_operator(\"@harpreetsahota/vitpose/vitpose_keypoint_estimator\")"
      ]
    },
    {
      "cell_type": "markdown",
      "metadata": {
        "id": "fg_XsRR84y1c"
      },
      "source": [
        "If you're running in a notebook, it's recommended to launch a Delegated operation by running `fiftyone delegated launch` in terminal, then run as follows:"
      ]
    },
    {
      "cell_type": "code",
      "execution_count": null,
      "metadata": {
        "id": "LFNANXlY4w0I"
      },
      "outputs": [],
      "source": [
        "await vitpose_operator(\n",
        "    dataset,\n",
        "    model_name=\"usyd-community/vitpose-plus-small\",\n",
        "    bbox_field=\"bbox_field\",\n",
        "    output_field=\"vitpose_estimates\",\n",
        "    confidence_threshold= 0.55,\n",
        "    delegate=True\n",
        ")"
      ]
    },
    {
      "cell_type": "markdown",
      "metadata": {
        "id": "S7g0MBSsj3kK"
      },
      "source": [
        "And you can see the result added to your dataset:\n"
      ]
    },
    {
      "cell_type": "code",
      "execution_count": null,
      "metadata": {
        "id": "mYU55BbJkWbD"
      },
      "outputs": [],
      "source": [
        "dataset"
      ]
    }
  ],
  "metadata": {
    "accelerator": "GPU",
    "colab": {
      "gpuType": "L4",
      "machine_shape": "hm",
      "provenance": []
    },
    "kernelspec": {
      "display_name": "Python 3",
      "name": "python3"
    },
    "language_info": {
      "name": "python"
    }
  },
  "nbformat": 4,
  "nbformat_minor": 0
}
