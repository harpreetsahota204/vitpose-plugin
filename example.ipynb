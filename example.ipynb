{
  "nbformat": 4,
  "nbformat_minor": 0,
  "metadata": {
    "colab": {
      "provenance": [],
      "machine_shape": "hm",
      "gpuType": "L4"
    },
    "kernelspec": {
      "name": "python3",
      "display_name": "Python 3"
    },
    "language_info": {
      "name": "python"
    },
    "accelerator": "GPU"
  },
  "cells": [
    {
      "cell_type": "code",
      "source": [
        "!pip install fiftyone hf-transfer ultralytics"
      ],
      "metadata": {
        "id": "9xqHWjDlIgym"
      },
      "execution_count": null,
      "outputs": []
    },
    {
      "cell_type": "code",
      "execution_count": null,
      "metadata": {
        "id": "_MsUgDkfH6cv"
      },
      "outputs": [],
      "source": [
        "!pip install -U -q git+https://github.com/huggingface/transformers"
      ]
    },
    {
      "cell_type": "code",
      "source": [
        "import os\n",
        "\n",
        "os.environ[\"HF_HUB_ENABLE_HF_TRANSFER\"] = \"1\""
      ],
      "metadata": {
        "id": "rlFoEEzvJpRS"
      },
      "execution_count": null,
      "outputs": []
    },
    {
      "cell_type": "code",
      "source": [
        "from ultralytics import YOLO\n",
        "\n",
        "yolo_world_model = YOLO(\"yolov8x-worldv2.pt\")  # or choose yolov8m/l-world.pt\n",
        "\n",
        "# Define custom classes\n",
        "yolo_world_model.set_classes([\"person\"])\n"
      ],
      "metadata": {
        "id": "ajMwBkY9YDEk"
      },
      "execution_count": null,
      "outputs": []
    },
    {
      "cell_type": "code",
      "source": [
        "import fiftyone as fo\n",
        "import fiftyone.utils.huggingface as fouh\n",
        "\n",
        "\n",
        "dataset = fouh.load_from_hub(\n",
        "    \"Voxel51/MPII_Human_Pose_Dataset\",\n",
        "    name=\"human_pose\",\n",
        "    max_samples = 10,\n",
        "    overwrite=True,\n",
        "    shuffle=True\n",
        "    )"
      ],
      "metadata": {
        "id": "OWQ2_H_LIr3F"
      },
      "execution_count": null,
      "outputs": []
    },
    {
      "cell_type": "code",
      "source": [
        "dataset.compute_metadata()"
      ],
      "metadata": {
        "id": "vOJP08d0prsV"
      },
      "execution_count": null,
      "outputs": []
    },
    {
      "cell_type": "code",
      "source": [
        "dataset.apply_model(\n",
        "    yolo_world_model,\n",
        "    label_field=\"bbox_detections\"\n",
        ")"
      ],
      "metadata": {
        "id": "9d0-3b_YXoYb"
      },
      "execution_count": null,
      "outputs": []
    },
    {
      "cell_type": "code",
      "source": [
        "!fiftyone plugins download https://github.com/harpreetsahota204/vitpose-plugin"
      ],
      "metadata": {
        "id": "WCU_NopKHzPs"
      },
      "execution_count": null,
      "outputs": []
    },
    {
      "cell_type": "code",
      "source": [
        "fo.launch_app(dataset)"
      ],
      "metadata": {
        "id": "8WTvVJOOp1_e"
      },
      "execution_count": null,
      "outputs": []
    },
    {
      "cell_type": "markdown",
      "source": [
        "To us"
      ],
      "metadata": {
        "id": "m8pvbrYtjdtt"
      }
    },
    {
      "cell_type": "code",
      "source": [
        "import fiftyone.operators as foo\n",
        "\n",
        "vitpose_operator = foo.get_operator(\"@harpreetsahota/vitpose/vitpose_keypoint_estimator\")"
      ],
      "metadata": {
        "id": "pvMumaPKjbW8"
      },
      "execution_count": null,
      "outputs": []
    },
    {
      "cell_type": "markdown",
      "source": [
        "If you're running in a notebook, it's recommended to launch a Delegated operation by running `fiftyone delegated launch` in terminal,"
      ],
      "metadata": {
        "id": "fg_XsRR84y1c"
      }
    },
    {
      "cell_type": "code",
      "source": [
        "%%bash\n",
        "fiftyone delegated launch"
      ],
      "metadata": {
        "id": "Uiep3bswjToM"
      },
      "execution_count": null,
      "outputs": []
    },
    {
      "cell_type": "markdown",
      "source": [
        "Then run as follows:"
      ],
      "metadata": {
        "id": "9lL9WGpujT4w"
      }
    },
    {
      "cell_type": "code",
      "source": [
        "await vitpose_operator(\n",
        "    dataset,\n",
        "    model_name=\"usyd-community/vitpose-plus-small\",\n",
        "    bbox_field=\"bbox_field\",\n",
        "    output_field=\"vitpose_estimates\",\n",
        "    confidence_threshold= 0.55\n",
        ")"
      ],
      "metadata": {
        "id": "LFNANXlY4w0I"
      },
      "execution_count": null,
      "outputs": []
    },
    {
      "cell_type": "markdown",
      "source": [
        "And you can see the result added to your dataset:\n"
      ],
      "metadata": {
        "id": "S7g0MBSsj3kK"
      }
    },
    {
      "cell_type": "code",
      "source": [
        "dataset"
      ],
      "metadata": {
        "id": "mYU55BbJkWbD"
      },
      "execution_count": null,
      "outputs": []
    }
  ]
}